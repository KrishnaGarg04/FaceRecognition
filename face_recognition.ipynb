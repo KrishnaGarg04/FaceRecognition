{
 "cells": [
  {
   "cell_type": "code",
   "execution_count": null,
   "metadata": {},
   "outputs": [],
   "source": [
    "from PIL import Image\n",
    "import numpy as np\n",
    "from numpy import asarray\n",
    "import os\n",
    "import pandas as pd\n",
    "from matplotlib import pyplot as plt\n",
    "from sklearn.preprocessing import StandardScaler\n",
    "from scipy.linalg import eigh\n",
    "from sklearn.metrics import accuracy_score"
   ]
  },
  {
   "cell_type": "code",
   "execution_count": null,
   "metadata": {},
   "outputs": [],
   "source": [
    "def getTrainTestSplits(folderName,trainSize):\n",
    "    allFolders = []\n",
    "    for folders in os.listdir(folderName):\n",
    "        if folders[0] == 's':\n",
    "            allFolders.append(folders)\n",
    "\n",
    "\n",
    "    firstX = 1\n",
    "    firstY = 1\n",
    "    Y_train = []\n",
    "    Y_test = []\n",
    "    \n",
    "    for folder in allFolders:\n",
    "        loc = folderName+\"/\"+folder\n",
    "        count = 0\n",
    "        folnum = int(folder[1:])\n",
    "        for file in os.listdir(loc):\n",
    "            fileLocation = loc + \"/\" + file\n",
    "            image = Image.open(fileLocation)\n",
    "            pixels = asarray(image)\n",
    "            pixels = np.reshape(pixels,[1,pixels.shape[0]*pixels.shape[1]])\n",
    "\n",
    "            if(count < trainSize):\n",
    "                if(firstX):\n",
    "                    X_train = pixels\n",
    "                    firstX = 0\n",
    "                else:\n",
    "                    X_train = np.vstack([X_train,pixels])\n",
    "                Y_train.append(folnum)\n",
    "            else:\n",
    "                if(firstY):\n",
    "                    X_test = pixels\n",
    "                    firstY = 0\n",
    "                else:\n",
    "                    X_test = np.vstack([X_test,pixels])\n",
    "                Y_test.append(folnum)\n",
    "\n",
    "\n",
    "            count = count + 1\n",
    "\n",
    "    return X_train,Y_train,X_test,Y_test"
   ]
  },
  {
   "cell_type": "code",
   "execution_count": null,
   "metadata": {},
   "outputs": [],
   "source": [
    "X_train,Y_train,X_test,Y_test = getTrainTestSplits(\"./ATnT\",6)"
   ]
  },
  {
   "cell_type": "code",
   "execution_count": null,
   "metadata": {},
   "outputs": [],
   "source": [
    "def topPrincipalComponents(eigen_values,eigen_faces,num_of_components):\n",
    "    ef = eigen_faces[:,:num_of_components]\n",
    "    return ef\n",
    "def principalComponentAnalysis(X):\n",
    "    global all_means\n",
    "    all_means = np.mean(X,axis=0)\n",
    "    X = X - all_means\n",
    "    coVar = np.cov(X.T)\n",
    "    values,vectors = eigh(coVar)    \n",
    "    sorted_index = (-values).argsort()\n",
    "    sorted_eigen_faces = vectors[:,sorted_index]\n",
    "    return values,sorted_eigen_faces\n",
    "eigen_values,eigen_faces = principalComponentAnalysis(X_train)"
   ]
  },
  {
   "cell_type": "code",
   "execution_count": null,
   "metadata": {},
   "outputs": [],
   "source": [
    "def imageReconstruction(row,all_means,ef,Y_train,img_num,cmp,j,tmp):\n",
    "    row = row - all_means\n",
    "    xk = np.matmul(row,ef)\n",
    "    row = np.matmul(xk,ef.T)\n",
    "    row = row + all_means\n",
    "    row = np.reshape(row,[112,92])\n",
    "    plt.subplot(6,6,tmp+1)\n",
    "    plt.imshow(row)\n",
    "    plt.subplots_adjust(right=1.2, top=1.2)\n",
    "    plt.tick_params(labelleft='off', labelbottom='off', bottom='off',top='off',right='off',left='off', which='both')\n",
    "    if(j == 5):\n",
    "        print('Face Number: '+str(img_num))\n",
    "        plt.show()\n",
    "    img = Y_train[img_num]"
   ]
  },
  {
   "cell_type": "code",
   "execution_count": null,
   "metadata": {},
   "outputs": [],
   "source": [
    "ef = topPrincipalComponents(eigen_values,eigen_faces,50)\n",
    "tmp = 0\n",
    "for i in range(0,ef.shape[1]):\n",
    "    tf = ef[:,i]\n",
    "    fig,ax=pyplot.subplots(1,1,figsize=(6,6))\n",
    "    ax.imshow(tf.reshape((112,92)))\n",
    "    ax.set_xticks([])\n",
    "    ax.set_yticks([])\n",
    "    ax.set_title('Average Face')"
   ]
  },
  {
   "cell_type": "code",
   "execution_count": null,
   "metadata": {},
   "outputs": [],
   "source": []
  }
 ],
 "metadata": {
  "language_info": {
   "name": "python"
  }
 },
 "nbformat": 4,
 "nbformat_minor": 2
}
